{
  "nbformat": 4,
  "nbformat_minor": 0,
  "metadata": {
    "colab": {
      "name": "simonesymon.ipynb",
      "provenance": [],
      "authorship_tag": "ABX9TyMCTGKVEXWkr5DWr2Oe8nv5",
      "include_colab_link": true
    },
    "kernelspec": {
      "name": "python3",
      "display_name": "Python 3"
    }
  },
  "cells": [
    {
      "cell_type": "markdown",
      "metadata": {
        "id": "view-in-github",
        "colab_type": "text"
      },
      "source": [
        "<a href=\"https://colab.research.google.com/github/simonesymon/house-prices-statistics/blob/simone/simonesymon.ipynb\" target=\"_parent\"><img src=\"https://colab.research.google.com/assets/colab-badge.svg\" alt=\"Open In Colab\"/></a>"
      ]
    },
    {
      "cell_type": "code",
      "metadata": {
        "id": "DlYe827ytF-G",
        "colab_type": "code",
        "outputId": "a4c76612-dd5d-4d24-ba6d-a147a6fdd3ca",
        "colab": {
          "base_uri": "https://localhost:8080/",
          "height": 35
        }
      },
      "source": [
        "print(\"tem que dar certo\")"
      ],
      "execution_count": 1,
      "outputs": [
        {
          "output_type": "stream",
          "text": [
            "tem que dar certo\n"
          ],
          "name": "stdout"
        }
      ]
    },
    {
      "cell_type": "code",
      "metadata": {
        "id": "Od-wMZHhtgkZ",
        "colab_type": "code",
        "colab": {
          "base_uri": "https://localhost:8080/",
          "height": 35
        },
        "outputId": "817378ca-7597-42f7-e52b-f3a37b2c4d9c"
      },
      "source": [
        "print(\"booooooooooraaa\")"
      ],
      "execution_count": 3,
      "outputs": [
        {
          "output_type": "stream",
          "text": [
            "booooooooooraaa\n"
          ],
          "name": "stdout"
        }
      ]
    }
  ]
}
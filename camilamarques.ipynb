{
  "nbformat": 4,
  "nbformat_minor": 0,
  "metadata": {
    "colab": {
      "name": "camilamarques.ipynb",
      "provenance": [],
      "authorship_tag": "ABX9TyNcA/p2GAsEXYhOryIkutUi",
      "include_colab_link": true
    },
    "kernelspec": {
      "name": "python3",
      "display_name": "Python 3"
    }
  },
  "cells": [
    {
      "cell_type": "markdown",
      "metadata": {
        "id": "view-in-github",
        "colab_type": "text"
      },
      "source": [
        "<a href=\"https://colab.research.google.com/github/camila-marquess/house-prices-statistics/blob/camila/camilamarques.ipynb\" target=\"_parent\"><img src=\"https://colab.research.google.com/assets/colab-badge.svg\" alt=\"Open In Colab\"/></a>"
      ]
    },
    {
      "cell_type": "code",
      "metadata": {
        "id": "V3N4t9DyY2LM",
        "colab_type": "code",
        "colab": {
          "base_uri": "https://localhost:8080/",
          "height": 35
        },
        "outputId": "ab1af9d1-272f-405e-e2ce-875c45759676"
      },
      "source": [
        "print(\"funciona caraio\")"
      ],
      "execution_count": 2,
      "outputs": [
        {
          "output_type": "stream",
          "text": [
            "funciona caraio\n"
          ],
          "name": "stdout"
        }
      ]
    }
  ]
}